{
 "cells": [
  {
   "cell_type": "markdown",
   "metadata": {},
   "source": [
    "## Network traversal model\n",
    "In this notebook we will load the Janelia hemibrain connectome graph and use a probabalistic network traversal to sort neurons into layers with respect to the olfactory system.\n",
    "\n",
    "This notebook is a slimmed-down version of what we used for the layer analyses in Schlegel, Bates et al. (2020). In particular, we are using raw hemibrain type annotations from neuPrint to compile groups of neurons which may differ slightly from the curations in the paper (e.g. for descending neurons).\n",
    "\n",
    "### Dependencies\n",
    "You will need the following dependencies which can be installed using `pip`:\n",
    "1. [navis](https://navis.readthedocs.io/en/latest/): `pip3 install navis` \n",
    "2. [neuprint-python](https://github.com/connectome-neuprint/neuprint-python): `pip3 install neuprint-python`\n",
    "\n",
    "In addition, you will need to have your neuPrint authorization token set as environmental variable. See neuprint-python's [docs](https://connectome-neuprint.github.io/neuprint-python/docs/)"
   ]
  },
  {
   "cell_type": "code",
   "execution_count": 59,
   "metadata": {},
   "outputs": [],
   "source": [
    "import os\n",
    "\n",
    "import navis\n",
    "import navis.interfaces.neuprint as neu\n",
    "\n",
    "import pandas as pd\n",
    "import numpy as np\n",
    "\n",
    "import seaborn as sns\n",
    "import matplotlib.pyplot as plt\n",
    "\n",
    "sns.set_color_codes('muted')\n",
    "\n",
    "NC = neu.NeuronCriteria\n",
    "client = neu.Client('https://neuprint.janelia.org', dataset='hemibrain:v1.1')"
   ]
  },
  {
   "cell_type": "code",
   "execution_count": 31,
   "metadata": {},
   "outputs": [
    {
     "name": "stdout",
     "output_type": "stream",
     "text": [
      "navis version: 0.3.4\n"
     ]
    }
   ],
   "source": [
    "print('navis version:', navis.__version__)"
   ]
  },
  {
   "cell_type": "code",
   "execution_count": 8,
   "metadata": {},
   "outputs": [
    {
     "data": {
      "text/html": [
       "<div>\n",
       "<style scoped>\n",
       "    .dataframe tbody tr th:only-of-type {\n",
       "        vertical-align: middle;\n",
       "    }\n",
       "\n",
       "    .dataframe tbody tr th {\n",
       "        vertical-align: top;\n",
       "    }\n",
       "\n",
       "    .dataframe thead th {\n",
       "        text-align: right;\n",
       "    }\n",
       "</style>\n",
       "<table border=\"1\" class=\"dataframe\">\n",
       "  <thead>\n",
       "    <tr style=\"text-align: right;\">\n",
       "      <th></th>\n",
       "      <th>bodyId</th>\n",
       "      <th>instance</th>\n",
       "      <th>type</th>\n",
       "      <th>pre</th>\n",
       "      <th>post</th>\n",
       "      <th>size</th>\n",
       "      <th>status</th>\n",
       "      <th>cropped</th>\n",
       "      <th>statusLabel</th>\n",
       "      <th>cellBodyFiber</th>\n",
       "      <th>somaRadius</th>\n",
       "      <th>somaLocation</th>\n",
       "      <th>inputRois</th>\n",
       "      <th>outputRois</th>\n",
       "      <th>roiInfo</th>\n",
       "    </tr>\n",
       "  </thead>\n",
       "  <tbody>\n",
       "    <tr>\n",
       "      <th>143355</th>\n",
       "      <td>7112622817</td>\n",
       "      <td>None</td>\n",
       "      <td>None</td>\n",
       "      <td>2</td>\n",
       "      <td>0</td>\n",
       "      <td>2231129</td>\n",
       "      <td>Assign</td>\n",
       "      <td>None</td>\n",
       "      <td>0.5assign</td>\n",
       "      <td>None</td>\n",
       "      <td>NaN</td>\n",
       "      <td>None</td>\n",
       "      <td>[]</td>\n",
       "      <td>[ATL(R), INP]</td>\n",
       "      <td>{'INP': {'pre': 2, 'downstream': 19}, 'ATL(R)'...</td>\n",
       "    </tr>\n",
       "    <tr>\n",
       "      <th>143362</th>\n",
       "      <td>7112623243</td>\n",
       "      <td>None</td>\n",
       "      <td>None</td>\n",
       "      <td>2</td>\n",
       "      <td>0</td>\n",
       "      <td>682292</td>\n",
       "      <td>Assign</td>\n",
       "      <td>None</td>\n",
       "      <td>0.5assign</td>\n",
       "      <td>None</td>\n",
       "      <td>NaN</td>\n",
       "      <td>None</td>\n",
       "      <td>[]</td>\n",
       "      <td>[VLNP(R), WED(R)]</td>\n",
       "      <td>{'VLNP(R)': {'pre': 2, 'downstream': 9}, 'WED(...</td>\n",
       "    </tr>\n",
       "  </tbody>\n",
       "</table>\n",
       "</div>"
      ],
      "text/plain": [
       "            bodyId instance  type  pre  post     size  status cropped  \\\n",
       "143355  7112622817     None  None    2     0  2231129  Assign    None   \n",
       "143362  7112623243     None  None    2     0   682292  Assign    None   \n",
       "\n",
       "       statusLabel cellBodyFiber  somaRadius somaLocation inputRois  \\\n",
       "143355   0.5assign          None         NaN         None        []   \n",
       "143362   0.5assign          None         NaN         None        []   \n",
       "\n",
       "               outputRois                                            roiInfo  \n",
       "143355      [ATL(R), INP]  {'INP': {'pre': 2, 'downstream': 19}, 'ATL(R)'...  \n",
       "143362  [VLNP(R), WED(R)]  {'VLNP(R)': {'pre': 2, 'downstream': 9}, 'WED(...  "
      ]
     },
     "execution_count": 8,
     "metadata": {},
     "output_type": "execute_result"
    }
   ],
   "source": [
    "# First grab all neurons that have either pre- or postsynapses \n",
    "# (we don't really care about neurons without connectivity for this analysis)\n",
    "all_meta1, roi1 = neu.fetch_neurons(NC(min_post=1))\n",
    "all_meta2, roi2 = neu.fetch_neurons(NC(min_pre=1))\n",
    "\n",
    "# Combine above dataframes\n",
    "all_roi = pd.concat([roi1, roi2], axis=0).drop_duplicates(['bodyId', 'roi'])\n",
    "meta = pd.concat([all_meta1, all_meta2], axis=0).drop_duplicates('bodyId')\n",
    "meta.tail(2)"
   ]
  },
  {
   "cell_type": "code",
   "execution_count": 13,
   "metadata": {},
   "outputs": [
    {
     "data": {
      "text/html": [
       "<div>\n",
       "<style scoped>\n",
       "    .dataframe tbody tr th:only-of-type {\n",
       "        vertical-align: middle;\n",
       "    }\n",
       "\n",
       "    .dataframe tbody tr th {\n",
       "        vertical-align: top;\n",
       "    }\n",
       "\n",
       "    .dataframe thead th {\n",
       "        text-align: right;\n",
       "    }\n",
       "</style>\n",
       "<table border=\"1\" class=\"dataframe\">\n",
       "  <thead>\n",
       "    <tr style=\"text-align: right;\">\n",
       "      <th></th>\n",
       "      <th>bodyId</th>\n",
       "      <th>instance</th>\n",
       "      <th>type</th>\n",
       "      <th>pre</th>\n",
       "      <th>post</th>\n",
       "      <th>size</th>\n",
       "      <th>status</th>\n",
       "      <th>cropped</th>\n",
       "      <th>statusLabel</th>\n",
       "      <th>cellBodyFiber</th>\n",
       "      <th>somaRadius</th>\n",
       "      <th>somaLocation</th>\n",
       "      <th>inputRois</th>\n",
       "      <th>outputRois</th>\n",
       "      <th>roiInfo</th>\n",
       "    </tr>\n",
       "  </thead>\n",
       "  <tbody>\n",
       "    <tr>\n",
       "      <th>70714</th>\n",
       "      <td>1543124896</td>\n",
       "      <td>ORN_DM3_L</td>\n",
       "      <td>ORN_DM3</td>\n",
       "      <td>77</td>\n",
       "      <td>97</td>\n",
       "      <td>85635827</td>\n",
       "      <td>Traced</td>\n",
       "      <td>True</td>\n",
       "      <td>Leaves</td>\n",
       "      <td>None</td>\n",
       "      <td>NaN</td>\n",
       "      <td>None</td>\n",
       "      <td>[AL(L), AL(R), AL-DA3(L), AL-DC1(R), AL-DM1(L)...</td>\n",
       "      <td>[AL(L), AL(R), AL-DL5(R), AL-DM1(L), AL-DM3(L)...</td>\n",
       "      <td>{'AL(R)': {'pre': 55, 'post': 66, 'downstream'...</td>\n",
       "    </tr>\n",
       "    <tr>\n",
       "      <th>70715</th>\n",
       "      <td>1543124950</td>\n",
       "      <td>ORN_DM3_L</td>\n",
       "      <td>ORN_DM3</td>\n",
       "      <td>72</td>\n",
       "      <td>109</td>\n",
       "      <td>70688772</td>\n",
       "      <td>Traced</td>\n",
       "      <td>True</td>\n",
       "      <td>Leaves</td>\n",
       "      <td>None</td>\n",
       "      <td>NaN</td>\n",
       "      <td>None</td>\n",
       "      <td>[AL(L), AL(R), AL-DM1(L), AL-DM1(R), AL-DM3(L)...</td>\n",
       "      <td>[AL(L), AL(R), AL-DM1(L), AL-DM3(L), AL-DM3(R)]</td>\n",
       "      <td>{'AL(L)': {'pre': 36, 'post': 60, 'downstream'...</td>\n",
       "    </tr>\n",
       "  </tbody>\n",
       "</table>\n",
       "</div>"
      ],
      "text/plain": [
       "           bodyId   instance     type  pre  post      size  status cropped  \\\n",
       "70714  1543124896  ORN_DM3_L  ORN_DM3   77    97  85635827  Traced    True   \n",
       "70715  1543124950  ORN_DM3_L  ORN_DM3   72   109  70688772  Traced    True   \n",
       "\n",
       "      statusLabel cellBodyFiber  somaRadius somaLocation  \\\n",
       "70714      Leaves          None         NaN         None   \n",
       "70715      Leaves          None         NaN         None   \n",
       "\n",
       "                                               inputRois  \\\n",
       "70714  [AL(L), AL(R), AL-DA3(L), AL-DC1(R), AL-DM1(L)...   \n",
       "70715  [AL(L), AL(R), AL-DM1(L), AL-DM1(R), AL-DM3(L)...   \n",
       "\n",
       "                                              outputRois  \\\n",
       "70714  [AL(L), AL(R), AL-DL5(R), AL-DM1(L), AL-DM3(L)...   \n",
       "70715    [AL(L), AL(R), AL-DM1(L), AL-DM3(L), AL-DM3(R)]   \n",
       "\n",
       "                                                 roiInfo  \n",
       "70714  {'AL(R)': {'pre': 55, 'post': 66, 'downstream'...  \n",
       "70715  {'AL(L)': {'pre': 36, 'post': 60, 'downstream'...  "
      ]
     },
     "execution_count": 13,
     "metadata": {},
     "output_type": "execute_result"
    }
   ],
   "source": [
    "# Extract RNs\n",
    "is_orn = meta.type.str.startswith('ORN_', na='').astype(bool)\n",
    "is_trn = meta.type.str.startswith('TRN_', na='').astype(bool)\n",
    "is_hrn = meta.type.str.startswith('HRN_', na='').astype(bool)\n",
    "\n",
    "rns = meta[is_orn | is_trn | is_hrn]\n",
    "rns.head(2)"
   ]
  },
  {
   "cell_type": "code",
   "execution_count": 16,
   "metadata": {},
   "outputs": [],
   "source": [
    "# Now grab edges between neurons that:\n",
    "# - either have a \"type\"...\n",
    "# - ... or are labeled as \"Roughly traced\" or \"Traced\"\n",
    "export_dir = '~/Downloads/adjacencies-test/'\n",
    "has_type = ~meta['type'].isnull()\n",
    "is_traced =  meta.statusLabel.isin(['Roughly traced', 'Traced'])\n",
    "criteria = NC(bodyId=meta[has_type | is_traced].bodyId)\n",
    "\n",
    "# This fetches the actual edges and stores them in the export directory\n",
    "_, edges = neu.fetch_adjacencies(criteria, criteria, include_nonprimary=False, export_dir=export_dir, batch_size=200)\n",
    "\n",
    "# This is in case you already downloaded them\n",
    "#edges = pd.read_csv(f'{os.path.expanduser(export_dir)}/total-connections.csv')"
   ]
  },
  {
   "cell_type": "code",
   "execution_count": 18,
   "metadata": {},
   "outputs": [
    {
     "data": {
      "text/plain": [
       "(1856536, 3)"
      ]
     },
     "execution_count": 18,
     "metadata": {},
     "output_type": "execute_result"
    }
   ],
   "source": [
    "# Remove weak connections to reduce noise and speed up the model\n",
    "edges = edges[edges.weight > 1]\n",
    "edges.shape"
   ]
  },
  {
   "cell_type": "code",
   "execution_count": 19,
   "metadata": {},
   "outputs": [],
   "source": [
    "# Get KCs either by instance or type\n",
    "# This also gives us fragments of KCs!\n",
    "kcs = meta[meta.instance.str.contains('KC', na=False).astype(bool) | meta['type'].str.contains('KC', na=False).astype(bool)]"
   ]
  },
  {
   "cell_type": "code",
   "execution_count": 20,
   "metadata": {},
   "outputs": [
    {
     "data": {
      "text/plain": [
       "(1716499, 3)"
      ]
     },
     "execution_count": 20,
     "metadata": {},
     "output_type": "execute_result"
    }
   ],
   "source": [
    "# Remove KC-KC connections (and fragments thereof) as they are considered to be false positives (see Li et al. 2020)\n",
    "edges = edges[~(edges.bodyId_pre.isin(kcs.bodyId) & edges.bodyId_post.isin(kcs.bodyId))]\n",
    "edges.shape"
   ]
  },
  {
   "cell_type": "code",
   "execution_count": 21,
   "metadata": {},
   "outputs": [],
   "source": [
    "# Get total number of in- and outputs per neuron\n",
    "# (note that this is after filtering the edges)\n",
    "nout = edges.groupby('bodyId_pre').weight.sum().sort_values(ascending=False)\n",
    "nin = edges.groupby('bodyId_post').weight.sum().sort_values(ascending=False)"
   ]
  },
  {
   "cell_type": "code",
   "execution_count": 22,
   "metadata": {},
   "outputs": [
    {
     "data": {
      "text/html": [
       "<div>\n",
       "<style scoped>\n",
       "    .dataframe tbody tr th:only-of-type {\n",
       "        vertical-align: middle;\n",
       "    }\n",
       "\n",
       "    .dataframe tbody tr th {\n",
       "        vertical-align: top;\n",
       "    }\n",
       "\n",
       "    .dataframe thead th {\n",
       "        text-align: right;\n",
       "    }\n",
       "</style>\n",
       "<table border=\"1\" class=\"dataframe\">\n",
       "  <thead>\n",
       "    <tr style=\"text-align: right;\">\n",
       "      <th></th>\n",
       "      <th>bodyId_pre</th>\n",
       "      <th>bodyId_post</th>\n",
       "      <th>weight</th>\n",
       "      <th>weight_norm_pre</th>\n",
       "      <th>weight_norm_post</th>\n",
       "    </tr>\n",
       "  </thead>\n",
       "  <tbody>\n",
       "    <tr>\n",
       "      <th>5</th>\n",
       "      <td>295115429</td>\n",
       "      <td>326134056</td>\n",
       "      <td>2</td>\n",
       "      <td>0.022222</td>\n",
       "      <td>0.017094</td>\n",
       "    </tr>\n",
       "    <tr>\n",
       "      <th>13</th>\n",
       "      <td>295115429</td>\n",
       "      <td>580192148</td>\n",
       "      <td>2</td>\n",
       "      <td>0.022222</td>\n",
       "      <td>0.015038</td>\n",
       "    </tr>\n",
       "    <tr>\n",
       "      <th>16</th>\n",
       "      <td>295115429</td>\n",
       "      <td>295132551</td>\n",
       "      <td>2</td>\n",
       "      <td>0.022222</td>\n",
       "      <td>0.007353</td>\n",
       "    </tr>\n",
       "  </tbody>\n",
       "</table>\n",
       "</div>"
      ],
      "text/plain": [
       "    bodyId_pre  bodyId_post  weight  weight_norm_pre  weight_norm_post\n",
       "5    295115429    326134056       2         0.022222          0.017094\n",
       "13   295115429    580192148       2         0.022222          0.015038\n",
       "16   295115429    295132551       2         0.022222          0.007353"
      ]
     },
     "execution_count": 22,
     "metadata": {},
     "output_type": "execute_result"
    }
   ],
   "source": [
    "# Weight normalized by presynaptic neuron\n",
    "edges['weight_norm_pre'] = edges.weight / edges.bodyId_pre.map(nout)\n",
    "\n",
    "# Weight normalized by postsynaptic neuron\n",
    "edges['weight_norm_post'] = edges.weight / edges.bodyId_post.map(nin)\n",
    "\n",
    "edges.head(3)"
   ]
  },
  {
   "cell_type": "code",
   "execution_count": 25,
   "metadata": {},
   "outputs": [
    {
     "name": "stdout",
     "output_type": "stream",
     "text": [
      "24602 unique neurons\n",
      "1716499 connections\n",
      "12590649 synapses\n"
     ]
    }
   ],
   "source": [
    "print(np.unique(edges[['bodyId_pre', 'bodyId_post']].values.flatten()).shape[0], 'unique neurons')\n",
    "print(edges.shape[0], 'connections')\n",
    "print(edges.weight.sum(), 'synapses')"
   ]
  },
  {
   "cell_type": "markdown",
   "metadata": {},
   "source": [
    "Now that we have collected the data, we can feed it into the model."
   ]
  },
  {
   "cell_type": "code",
   "execution_count": null,
   "metadata": {},
   "outputs": [],
   "source": [
    "from navis.models import TraversalModel\n",
    "\n",
    "# Initialize model with RNs as seeds and with the normalized weight as input\n",
    "model_edges = edges[['bodyId_pre', 'bodyId_post', 'weight_norm_post']].rename({'bodyId_pre': 'source',\n",
    "                                                                               'bodyId_post': 'target'}, axis=1)\n",
    "\n",
    "# Note that this uses the default activation function\n",
    "# check help(TraversalModel) for details\n",
    "mod = TraversalModel(edges=model_edges,\n",
    "                     seeds=rns.bodyId.values,\n",
    "                     weights='weight_norm_post',\n",
    "                     max_steps=15)\n",
    "\n",
    "# Run model with 10,000 iterations using all but two of the available cores\n",
    "mod.run_parallel(iterations=10000, n_cores=os.cpu_count() - 2)"
   ]
  },
  {
   "cell_type": "code",
   "execution_count": 30,
   "metadata": {},
   "outputs": [
    {
     "data": {
      "text/html": [
       "<div>\n",
       "<style scoped>\n",
       "    .dataframe tbody tr th:only-of-type {\n",
       "        vertical-align: middle;\n",
       "    }\n",
       "\n",
       "    .dataframe tbody tr th {\n",
       "        vertical-align: top;\n",
       "    }\n",
       "\n",
       "    .dataframe thead th {\n",
       "        text-align: right;\n",
       "    }\n",
       "</style>\n",
       "<table border=\"1\" class=\"dataframe\">\n",
       "  <thead>\n",
       "    <tr style=\"text-align: right;\">\n",
       "      <th></th>\n",
       "      <th>layer_min</th>\n",
       "      <th>layer_max</th>\n",
       "      <th>layer_mean</th>\n",
       "      <th>layer_median</th>\n",
       "    </tr>\n",
       "    <tr>\n",
       "      <th>node</th>\n",
       "      <th></th>\n",
       "      <th></th>\n",
       "      <th></th>\n",
       "      <th></th>\n",
       "    </tr>\n",
       "  </thead>\n",
       "  <tbody>\n",
       "    <tr>\n",
       "      <th>200326126</th>\n",
       "      <td>3</td>\n",
       "      <td>8</td>\n",
       "      <td>5.127</td>\n",
       "      <td>5.0</td>\n",
       "    </tr>\n",
       "    <tr>\n",
       "      <th>202916528</th>\n",
       "      <td>4</td>\n",
       "      <td>9</td>\n",
       "      <td>6.561</td>\n",
       "      <td>7.0</td>\n",
       "    </tr>\n",
       "    <tr>\n",
       "      <th>203253072</th>\n",
       "      <td>4</td>\n",
       "      <td>9</td>\n",
       "      <td>6.200</td>\n",
       "      <td>6.0</td>\n",
       "    </tr>\n",
       "    <tr>\n",
       "      <th>203253253</th>\n",
       "      <td>3</td>\n",
       "      <td>8</td>\n",
       "      <td>5.716</td>\n",
       "      <td>6.0</td>\n",
       "    </tr>\n",
       "    <tr>\n",
       "      <th>203257652</th>\n",
       "      <td>4</td>\n",
       "      <td>9</td>\n",
       "      <td>6.562</td>\n",
       "      <td>7.0</td>\n",
       "    </tr>\n",
       "  </tbody>\n",
       "</table>\n",
       "</div>"
      ],
      "text/plain": [
       "           layer_min  layer_max  layer_mean  layer_median\n",
       "node                                                     \n",
       "200326126          3          8       5.127           5.0\n",
       "202916528          4          9       6.561           7.0\n",
       "203253072          4          9       6.200           6.0\n",
       "203253253          3          8       5.716           6.0\n",
       "203257652          4          9       6.562           7.0"
      ]
     },
     "execution_count": 30,
     "metadata": {},
     "output_type": "execute_result"
    }
   ],
   "source": [
    "# Get the summary of the model\n",
    "layers = mod.summary\n",
    "layers.head()"
   ]
  },
  {
   "cell_type": "code",
   "execution_count": 32,
   "metadata": {},
   "outputs": [
    {
     "data": {
      "text/plain": [
       "(53, 5)"
      ]
     },
     "execution_count": 32,
     "metadata": {},
     "output_type": "execute_result"
    }
   ],
   "source": [
    "# Check how many nodes were not traversed ever (presumably disconnected)\n",
    "all_neurons = np.unique(edges[['bodyId_pre', 'bodyId_post']].values.flatten())\n",
    "missed = all_neurons[~np.isin(all_neurons, layers.index)]\n",
    "not_traversed = pd.DataFrame([[None, None, None, None, 0]] * missed.size, index=missed,\n",
    "                             columns=['layer_min', 'layer_mean', 'layer_max', 'layer_median', 'n_seen'])\n",
    "not_traversed.shape"
   ]
  },
  {
   "cell_type": "markdown",
   "metadata": {},
   "source": [
    "Add some meta data for typing"
   ]
  },
  {
   "cell_type": "code",
   "execution_count": 35,
   "metadata": {},
   "outputs": [
    {
     "data": {
      "text/html": [
       "<div>\n",
       "<style scoped>\n",
       "    .dataframe tbody tr th:only-of-type {\n",
       "        vertical-align: middle;\n",
       "    }\n",
       "\n",
       "    .dataframe tbody tr th {\n",
       "        vertical-align: top;\n",
       "    }\n",
       "\n",
       "    .dataframe thead th {\n",
       "        text-align: right;\n",
       "    }\n",
       "</style>\n",
       "<table border=\"1\" class=\"dataframe\">\n",
       "  <thead>\n",
       "    <tr style=\"text-align: right;\">\n",
       "      <th></th>\n",
       "      <th>layer_min</th>\n",
       "      <th>layer_max</th>\n",
       "      <th>layer_mean</th>\n",
       "      <th>layer_median</th>\n",
       "      <th>type</th>\n",
       "    </tr>\n",
       "    <tr>\n",
       "      <th>node</th>\n",
       "      <th></th>\n",
       "      <th></th>\n",
       "      <th></th>\n",
       "      <th></th>\n",
       "      <th></th>\n",
       "    </tr>\n",
       "  </thead>\n",
       "  <tbody>\n",
       "    <tr>\n",
       "      <th>200326126</th>\n",
       "      <td>3</td>\n",
       "      <td>8</td>\n",
       "      <td>5.127</td>\n",
       "      <td>5.0</td>\n",
       "      <td>CL141</td>\n",
       "    </tr>\n",
       "    <tr>\n",
       "      <th>202916528</th>\n",
       "      <td>4</td>\n",
       "      <td>9</td>\n",
       "      <td>6.561</td>\n",
       "      <td>7.0</td>\n",
       "      <td>FS4C</td>\n",
       "    </tr>\n",
       "    <tr>\n",
       "      <th>203253072</th>\n",
       "      <td>4</td>\n",
       "      <td>9</td>\n",
       "      <td>6.200</td>\n",
       "      <td>6.0</td>\n",
       "      <td>FS4A</td>\n",
       "    </tr>\n",
       "    <tr>\n",
       "      <th>203253253</th>\n",
       "      <td>3</td>\n",
       "      <td>8</td>\n",
       "      <td>5.716</td>\n",
       "      <td>6.0</td>\n",
       "      <td>SMP505</td>\n",
       "    </tr>\n",
       "    <tr>\n",
       "      <th>203257652</th>\n",
       "      <td>4</td>\n",
       "      <td>9</td>\n",
       "      <td>6.562</td>\n",
       "      <td>7.0</td>\n",
       "      <td>FS4C</td>\n",
       "    </tr>\n",
       "  </tbody>\n",
       "</table>\n",
       "</div>"
      ],
      "text/plain": [
       "           layer_min  layer_max  layer_mean  layer_median    type\n",
       "node                                                             \n",
       "200326126          3          8       5.127           5.0   CL141\n",
       "202916528          4          9       6.561           7.0    FS4C\n",
       "203253072          4          9       6.200           6.0    FS4A\n",
       "203253253          3          8       5.716           6.0  SMP505\n",
       "203257652          4          9       6.562           7.0    FS4C"
      ]
     },
     "execution_count": 35,
     "metadata": {},
     "output_type": "execute_result"
    }
   ],
   "source": [
    "# neuPrint Cell types\n",
    "layers['type'] = layers.index.map(meta.set_index('bodyId').type)\n",
    "layers.head()"
   ]
  },
  {
   "cell_type": "code",
   "execution_count": 86,
   "metadata": {},
   "outputs": [
    {
     "data": {
      "text/plain": [
       "type_broad\n",
       "ALLN        197\n",
       "ALPN        331\n",
       "ALRN       2646\n",
       "DAN         322\n",
       "KC         1927\n",
       "LHCENT       23\n",
       "MBON         69\n",
       "other     19034\n",
       "dtype: int64"
      ]
     },
     "execution_count": 86,
     "metadata": {},
     "output_type": "execute_result"
    }
   ],
   "source": [
    "# Add some broader cell types\n",
    "layers['type_broad'] = 'other'\n",
    "\n",
    "# RNs\n",
    "is_rn = layers.index.isin(rns.bodyId.values)\n",
    "layers.loc[is_rn, 'type_broad'] = 'ALRN' \n",
    "\n",
    "# ALLNs\n",
    "is_alln = layers.type.str.contains('vLN|v2LN|lLN|l2LN|il3LN', na=False)\n",
    "layers.loc[is_alln, 'type_broad'] = 'ALLN'\n",
    "\n",
    "# AL-PNs\n",
    "is_pn = layers.type.str.contains('[_aliv][lv2d]PN', na=False)  \n",
    "layers.loc[is_pn, 'type_broad'] = 'ALPN'\n",
    "\n",
    "# Kenyon cells\n",
    "is_kc = layers.type.str.startswith('KC', na=False)\n",
    "layers.loc[is_kc, 'type_broad'] = 'KC'\n",
    "\n",
    "# Mushroom body output neurons\n",
    "is_mbon = layers.type.str.startswith('MBON', na=False)\n",
    "layers.loc[is_mbon, 'type_broad'] = 'MBON'\n",
    "\n",
    "# MB dopaminergic neurons\n",
    "is_dan = layers.type.str.startswith('PPL', na=False) | layers.type.str.startswith('PAM', na=False)\n",
    "layers.loc[is_dan, 'type_broad'] = 'DAN'\n",
    "\n",
    "# Centrifugals\n",
    "is_cent = layers.type.str.startswith('LHCENT', na=False)\n",
    "layers.loc[is_cent, 'type_broad'] = 'LHCENT'\n",
    "\n",
    "# Print numbers per group\n",
    "layers.groupby('type_broad').size()"
   ]
  },
  {
   "cell_type": "markdown",
   "metadata": {},
   "source": [
    "Let's generate a few figures in the same style as in the paper"
   ]
  },
  {
   "cell_type": "code",
   "execution_count": 87,
   "metadata": {},
   "outputs": [
    {
     "data": {
      "image/png": "[encoded data removed]",
      "text/plain": [
       "<Figure size 360x288 with 1 Axes>"
      ]
     },
     "metadata": {
      "needs_background": "light"
     },
     "output_type": "display_data"
    }
   ],
   "source": [
    "# Group by rounded layer and count\n",
    "layers['layer_mean_rounded'] = layers.layer_mean.round().astype(int)\n",
    "w_bins = layers.groupby(['layer_mean_rounded', 'type_broad'], as_index=False).size()\n",
    "w_bins = w_bins.reset_index(drop=False).pivot(index='layer_mean_rounded', columns='type_broad').fillna(0).loc[:, 'size']\n",
    "\n",
    "fig, ax = plt.subplots(figsize=(5, 4))\n",
    "\n",
    "ax = w_bins.plot.bar(stacked=True, width=.9, ax=ax)\n",
    "\n",
    "ax.set_xlabel('layer (rounded)')\n",
    "ax.set_ylabel('count')\n",
    "\n",
    "l = ax.get_legend()\n",
    "l.set_title('')\n",
    "\n",
    "ax.set_xticklabels(ax.get_xticklabels(), rotation=0)\n",
    "\n",
    "sns.despine(trim=True)\n",
    "plt.tight_layout()"
   ]
  },
  {
   "cell_type": "code",
   "execution_count": 93,
   "metadata": {},
   "outputs": [
    {
     "data": {
      "image/png": "[encoded data removed]",
      "text/plain": [
       "<Figure size 360x288 with 1 Axes>"
      ]
     },
     "metadata": {
      "needs_background": "light"
     },
     "output_type": "display_data"
    }
   ],
   "source": [
    "from matplotlib.ticker import (MultipleLocator, FormatStrFormatter,\n",
    "                               AutoMinorLocator)\n",
    "\n",
    "fig, ax = plt.subplots(figsize=(5, 4))\n",
    "\n",
    "order = layers.type_broad.unique()\n",
    "\n",
    "ax = sns.stripplot(data=layers, y='type_broad', x='layer_mean', alpha=.1, order=order, ax=ax)\n",
    "\n",
    "x = layers.groupby('type_broad')['layer_mean'].mean().loc[order]\n",
    "y = np.arange(0, len(order))\n",
    "\n",
    "ax.scatter(x, y, marker='|', c='k', zorder=100)\n",
    "\n",
    "ax.set_xlabel('layer (mean)')\n",
    "ax.set_ylabel('')\n",
    "\n",
    "ax.xaxis.set_minor_locator(MultipleLocator(1))\n",
    "ax.set_xticks(np.arange(1, 12))\n",
    "\n",
    "ax.grid(True, axis='x', which='both')\n",
    "\n",
    "sns.despine(trim=True)\n",
    "\n",
    "plt.tight_layout()"
   ]
  },
  {
   "cell_type": "code",
   "execution_count": 94,
   "metadata": {},
   "outputs": [
    {
     "data": {
      "text/html": [
       "<div>\n",
       "<style scoped>\n",
       "    .dataframe tbody tr th:only-of-type {\n",
       "        vertical-align: middle;\n",
       "    }\n",
       "\n",
       "    .dataframe tbody tr th {\n",
       "        vertical-align: top;\n",
       "    }\n",
       "\n",
       "    .dataframe thead th {\n",
       "        text-align: right;\n",
       "    }\n",
       "</style>\n",
       "<table border=\"1\" class=\"dataframe\">\n",
       "  <thead>\n",
       "    <tr style=\"text-align: right;\">\n",
       "      <th></th>\n",
       "      <th>bodyId_pre</th>\n",
       "      <th>bodyId_post</th>\n",
       "      <th>weight</th>\n",
       "      <th>weight_norm_pre</th>\n",
       "      <th>weight_norm_post</th>\n",
       "      <th>ntype_pre</th>\n",
       "      <th>ntype_post</th>\n",
       "      <th>layer_pre</th>\n",
       "      <th>layer_post</th>\n",
       "    </tr>\n",
       "  </thead>\n",
       "  <tbody>\n",
       "    <tr>\n",
       "      <th>5</th>\n",
       "      <td>295115429</td>\n",
       "      <td>326134056</td>\n",
       "      <td>2</td>\n",
       "      <td>0.022222</td>\n",
       "      <td>0.017094</td>\n",
       "      <td>other</td>\n",
       "      <td>other</td>\n",
       "      <td>4.457</td>\n",
       "      <td>4.296</td>\n",
       "    </tr>\n",
       "    <tr>\n",
       "      <th>13</th>\n",
       "      <td>295115429</td>\n",
       "      <td>580192148</td>\n",
       "      <td>2</td>\n",
       "      <td>0.022222</td>\n",
       "      <td>0.015038</td>\n",
       "      <td>other</td>\n",
       "      <td>other</td>\n",
       "      <td>4.457</td>\n",
       "      <td>4.416</td>\n",
       "    </tr>\n",
       "    <tr>\n",
       "      <th>16</th>\n",
       "      <td>295115429</td>\n",
       "      <td>295132551</td>\n",
       "      <td>2</td>\n",
       "      <td>0.022222</td>\n",
       "      <td>0.007353</td>\n",
       "      <td>other</td>\n",
       "      <td>other</td>\n",
       "      <td>4.457</td>\n",
       "      <td>3.943</td>\n",
       "    </tr>\n",
       "    <tr>\n",
       "      <th>20</th>\n",
       "      <td>295115429</td>\n",
       "      <td>294436967</td>\n",
       "      <td>2</td>\n",
       "      <td>0.022222</td>\n",
       "      <td>0.000711</td>\n",
       "      <td>other</td>\n",
       "      <td>DAN</td>\n",
       "      <td>4.457</td>\n",
       "      <td>4.282</td>\n",
       "    </tr>\n",
       "    <tr>\n",
       "      <th>23</th>\n",
       "      <td>295115429</td>\n",
       "      <td>295473400</td>\n",
       "      <td>2</td>\n",
       "      <td>0.022222</td>\n",
       "      <td>0.007874</td>\n",
       "      <td>other</td>\n",
       "      <td>other</td>\n",
       "      <td>4.457</td>\n",
       "      <td>5.021</td>\n",
       "    </tr>\n",
       "  </tbody>\n",
       "</table>\n",
       "</div>"
      ],
      "text/plain": [
       "    bodyId_pre  bodyId_post  weight  weight_norm_pre  weight_norm_post  \\\n",
       "5    295115429    326134056       2         0.022222          0.017094   \n",
       "13   295115429    580192148       2         0.022222          0.015038   \n",
       "16   295115429    295132551       2         0.022222          0.007353   \n",
       "20   295115429    294436967       2         0.022222          0.000711   \n",
       "23   295115429    295473400       2         0.022222          0.007874   \n",
       "\n",
       "   ntype_pre ntype_post  layer_pre  layer_post  \n",
       "5      other      other      4.457       4.296  \n",
       "13     other      other      4.457       4.416  \n",
       "16     other      other      4.457       3.943  \n",
       "20     other        DAN      4.457       4.282  \n",
       "23     other      other      4.457       5.021  "
      ]
     },
     "execution_count": 94,
     "metadata": {},
     "output_type": "execute_result"
    }
   ],
   "source": [
    "# Map pre/post ntype onto edges\n",
    "edges['ntype_pre'] = edges.bodyId_pre.map(layers.ntype_broad)\n",
    "edges['ntype_post'] = edges.bodyId_post.map(layers.ntype_broad)\n",
    "\n",
    "# Map pre/post layer onto edges\n",
    "edges['layer_pre'] = edges.bodyId_pre.map(layers.layer_mean)\n",
    "edges['layer_post'] = edges.bodyId_post.map(layers.layer_mean)\n",
    "\n",
    "edges.head()"
   ]
  },
  {
   "cell_type": "code",
   "execution_count": 95,
   "metadata": {},
   "outputs": [
    {
     "data": {
      "image/png": "[encoded data removed]",
      "text/plain": [
       "<Figure size 432x288 with 2 Axes>"
      ]
     },
     "metadata": {
      "needs_background": "light"
     },
     "output_type": "display_data"
    }
   ],
   "source": [
    "# Round layers for visualization\n",
    "edges_abs = edges[~edges.layer_pre.isnull() & ~edges.layer_post.isnull()].copy()\n",
    "edges_abs['layer_post'] = edges_abs.layer_post.round() #.astype(int)\n",
    "edges_abs['layer_pre'] = edges_abs.layer_pre.round()#.astype(int)\n",
    "\n",
    "# Get total synapse count between layers\n",
    "edges_by_layer = edges_abs.groupby(['layer_pre',\n",
    "                                    'layer_post'], as_index=False).weight.sum()\n",
    "\n",
    "layers_out_sum = edges_abs.groupby('layer_pre').weight.sum()\n",
    "\n",
    "# Normalise by source layer\n",
    "edges_by_layer['weight_norm'] = edges_by_layer.weight / edges_by_layer.layer_pre.map(layers_out_sum)\n",
    "\n",
    "edges_by_layer_adj = edges_by_layer.pivot(columns='layer_post',\n",
    "                                          index='layer_pre',\n",
    "                                          values='weight_norm').fillna(0)\n",
    "\n",
    "hm = sns.heatmap(edges_by_layer_adj, cmap='Greys', cbar_kws={'label': 'fraction of source layer outputs'}, square=True)\n",
    "\n",
    "_ = hm.set_xticklabels(range(1, 14), rotation=0)\n",
    "_ = hm.set_yticklabels(range(1, 14), va='center')\n",
    "\n",
    "hm.set_xlabel('target layer')\n",
    "hm.set_ylabel('source layer')\n",
    "\n",
    "hm.set_ylim(0, 9)\n",
    "hm.set_xlim(0, 9)\n",
    "\n",
    "plt.tight_layout()"
   ]
  },
  {
   "cell_type": "code",
   "execution_count": 97,
   "metadata": {},
   "outputs": [
    {
     "data": {
      "image/png": "[encoded data removed]",
      "text/plain": [
       "<Figure size 360x648 with 1 Axes>"
      ]
     },
     "metadata": {
      "needs_background": "light"
     },
     "output_type": "display_data"
    }
   ],
   "source": [
    "# Determine the main ROI for each neuron, that in which is has the most postsynaptic sites\n",
    "roi_df = meta.set_index('bodyId').roiInfo.apply(lambda rois: max(rois, key=lambda k: rois[k].get('post', 0)) if len(rois) else None)\n",
    "layers['main_roi'] = roi_df\n",
    "\n",
    "# Get neurons for which we have an ROI (except for RNs)\n",
    "has_roi = ~layers.main_roi.isnull()\n",
    "not_rn = layers.type_broad != 'RN'\n",
    "# Mean layer per ROI\n",
    "by_roi = layers[has_roi & not_rn].groupby('main_roi')['layer_mean'].mean()\n",
    "\n",
    "# Sort such that the mean layer increases\n",
    "all_rois = layers[has_roi & not_rn & ~layers.main_roi.str.contains('\\(L\\)').astype(bool)].main_roi.unique()\n",
    "roi_order = sorted(all_rois, key=lambda x: by_roi.loc[x])\n",
    "\n",
    "fig, ax = plt.subplots(figsize=(5, 9))\n",
    "\n",
    "ax = sns.stripplot(data=layers[has_roi & not_rn],\n",
    "                   color='darkgrey',\n",
    "                   order=roi_order,\n",
    "                   y='main_roi', x='layer_mean', alpha=.05, ax=ax)\n",
    "\n",
    "x = layers[has_roi & not_rn].groupby('main_roi')['layer_mean'].mean().loc[roi_order]\n",
    "y = np.arange(0, len(x))\n",
    "\n",
    "ax.scatter(x, y, marker='|', c='k', zorder=100)\n",
    "\n",
    "ax.set_xlabel('layer (mean)')\n",
    "ax.set_ylabel('')\n",
    "\n",
    "ax.xaxis.set_minor_locator(MultipleLocator(1))\n",
    "ax.set_xticks(np.arange(1, 12))\n",
    "\n",
    "ax.grid(True, axis='x', which='both')\n",
    "\n",
    "sns.despine(trim=True)\n",
    "\n",
    "ax.set_ylim(len(y) - .5, -.5)\n",
    "\n",
    "plt.tight_layout()"
   ]
  }
 ],
 "metadata": {
  "kernelspec": {
   "display_name": "Python 3",
   "language": "python",
   "name": "python3"
  },
  "language_info": {
   "codemirror_mode": {
    "name": "ipython",
    "version": 3
   },
   "file_extension": ".py",
   "mimetype": "text/x-python",
   "name": "python",
   "nbconvert_exporter": "python",
   "pygments_lexer": "ipython3",
   "version": "3.7.5"
  },
  "widgets": {
   "application/vnd.jupyter.widget-state+json": {
    "state": {
     "012dbc35fa5b40c7a312221e8f6d2b33": {
      "model_module": "@jupyter-widgets/controls",
      "model_module_version": "1.5.0",
      "model_name": "ProgressStyleModel",
      "state": {
       "description_width": ""
      }
     },
     "0305669c9d3a486d9545daed96cf9393": {
      "model_module": "@jupyter-widgets/base",
      "model_module_version": "1.2.0",
      "model_name": "LayoutModel",
      "state": {}
     },
     "0461df9248e84af1abfb0fabf5238ac2": {
      "model_module": "@jupyter-widgets/controls",
      "model_module_version": "1.5.0",
      "model_name": "FloatProgressModel",
      "state": {
       "layout": "IPY_MODEL_4068218fbd524148be9729e61ea728e6",
       "max": 1000,
       "style": "IPY_MODEL_53e187348eb742ab9712fff115bb5ac7",
       "value": 1000
      }
     },
     "04b10777e5b9471c8604724a0a09e5c1": {
      "model_module": "@jupyter-widgets/controls",
      "model_module_version": "1.5.0",
      "model_name": "HTMLModel",
      "state": {
       "layout": "IPY_MODEL_ac633ee05f34415eb8c333411d256f5c",
       "style": "IPY_MODEL_f8ccd37cfa6d4d109867ac5f5792fc8b",
       "value": "100%"
      }
     },
     "0de7519118eb4a7c9f34e49c019c493f": {
      "model_module": "@jupyter-widgets/base",
      "model_module_version": "1.2.0",
      "model_name": "LayoutModel",
      "state": {}
     },
     "110b7970ca37417e829f7c1bae552ba3": {
      "model_module": "@jupyter-widgets/controls",
      "model_module_version": "1.5.0",
      "model_name": "FloatProgressModel",
      "state": {
       "layout": "IPY_MODEL_2cdf7c8c53be4a138828cd4c64790899",
       "max": 1000,
       "style": "IPY_MODEL_7573d77b05b1484db27f2b2135702c97",
       "value": 1000
      }
     },
     "12a664d9cef84f9a8082776d440a1188": {
      "model_module": "@jupyter-widgets/base",
      "model_module_version": "1.2.0",
      "model_name": "LayoutModel",
      "state": {}
     },
     "14f2c41dd65448679d7948fad9dfb863": {
      "model_module": "@jupyter-widgets/base",
      "model_module_version": "1.2.0",
      "model_name": "LayoutModel",
      "state": {}
     },
     "1502d49f304b461ea359c35cd493a91c": {
      "model_module": "@jupyter-widgets/controls",
      "model_module_version": "1.5.0",
      "model_name": "DescriptionStyleModel",
      "state": {
       "description_width": ""
      }
     },
     "1d0b56d6588149cfa42e72099b269494": {
      "model_module": "@jupyter-widgets/base",
      "model_module_version": "1.2.0",
      "model_name": "LayoutModel",
      "state": {}
     },
     "1e1bc79a30fc4cd5992b9fb4366d8b9e": {
      "model_module": "@jupyter-widgets/base",
      "model_module_version": "1.2.0",
      "model_name": "LayoutModel",
      "state": {}
     },
     "22473ff4fc11422ab85d1b2ff8e8e96a": {
      "model_module": "@jupyter-widgets/base",
      "model_module_version": "1.2.0",
      "model_name": "LayoutModel",
      "state": {}
     },
     "22d42a26c3874a17b8f541d35837faff": {
      "model_module": "@jupyter-widgets/base",
      "model_module_version": "1.2.0",
      "model_name": "LayoutModel",
      "state": {}
     },
     "24afdd79ca234439aeba84be1d9fc438": {
      "model_module": "@jupyter-widgets/controls",
      "model_module_version": "1.5.0",
      "model_name": "HTMLModel",
      "state": {
       "layout": "IPY_MODEL_4a541658cec042d99ee17601c2d3de78",
       "style": "IPY_MODEL_4a08bf58d4fc44cd9af98b3d7bb5b9e6",
       "value": " 1000/1000 [54:57&lt;00:00,  3.22s/it]"
      }
     },
     "258ca92e6ca14f8f877cdbeb13738204": {
      "model_module": "@jupyter-widgets/controls",
      "model_module_version": "1.5.0",
      "model_name": "HTMLModel",
      "state": {
       "layout": "IPY_MODEL_48e7e3b1d88d4d368e73f0d0b2ff160e",
       "style": "IPY_MODEL_604a128e828347fbba22e638a1894ee8",
       "value": " 1000/1000 [55:03&lt;00:00,  2.38s/it]"
      }
     },
     "25962e2d4968463098e48c8111abfbca": {
      "model_module": "@jupyter-widgets/controls",
      "model_module_version": "1.5.0",
      "model_name": "DescriptionStyleModel",
      "state": {
       "description_width": ""
      }
     },
     "25c478cc808d45ad90fa79372e837a91": {
      "model_module": "@jupyter-widgets/controls",
      "model_module_version": "1.5.0",
      "model_name": "HTMLModel",
      "state": {
       "layout": "IPY_MODEL_4bf1b966825e4d5480a9ac9f6e8391eb",
       "style": "IPY_MODEL_b1f5d4666dad408f99f0539f8f637d5e",
       "value": "100%"
      }
     },
     "2a96c3008e14401184f740550b31b8b9": {
      "model_module": "@jupyter-widgets/controls",
      "model_module_version": "1.5.0",
      "model_name": "DescriptionStyleModel",
      "state": {
       "description_width": ""
      }
     },
     "2cdf7c8c53be4a138828cd4c64790899": {
      "model_module": "@jupyter-widgets/base",
      "model_module_version": "1.2.0",
      "model_name": "LayoutModel",
      "state": {}
     },
     "2d089e10311949f4beac6eb4093d08f9": {
      "model_module": "@jupyter-widgets/base",
      "model_module_version": "1.2.0",
      "model_name": "LayoutModel",
      "state": {}
     },
     "33682189025e404fb8eac15c743eddf8": {
      "model_module": "@jupyter-widgets/controls",
      "model_module_version": "1.5.0",
      "model_name": "ProgressStyleModel",
      "state": {
       "description_width": ""
      }
     },
     "34b6a4a5fc3d4840a4508e18adfd5bd3": {
      "model_module": "@jupyter-widgets/base",
      "model_module_version": "1.2.0",
      "model_name": "LayoutModel",
      "state": {}
     },
     "380a81c6c4694c028cbdb08d860636d4": {
      "model_module": "@jupyter-widgets/controls",
      "model_module_version": "1.5.0",
      "model_name": "HTMLModel",
      "state": {
       "layout": "IPY_MODEL_f18e93e225db41d08e0f4d570e2351df",
       "style": "IPY_MODEL_3e2a7f5bbe574e90a804a56db2437a76",
       "value": "100%"
      }
     },
     "38b3888c80d74d0996b18fda53e04403": {
      "model_module": "@jupyter-widgets/controls",
      "model_module_version": "1.5.0",
      "model_name": "FloatProgressModel",
      "state": {
       "layout": "IPY_MODEL_6393443e39ce44e8a6faf26024d22f55",
       "max": 1000,
       "style": "IPY_MODEL_012dbc35fa5b40c7a312221e8f6d2b33",
       "value": 1000
      }
     },
     "3c3b14b9462747eb8e388671872efa49": {
      "model_module": "@jupyter-widgets/controls",
      "model_module_version": "1.5.0",
      "model_name": "DescriptionStyleModel",
      "state": {
       "description_width": ""
      }
     },
     "3d63005293364d338dce9a53fd6f7eda": {
      "model_module": "@jupyter-widgets/controls",
      "model_module_version": "1.5.0",
      "model_name": "HTMLModel",
      "state": {
       "layout": "IPY_MODEL_5a27af93606c45a1a65bf6ef4835252b",
       "style": "IPY_MODEL_ff02e8822f344c01a9708e5d87ecf841",
       "value": "100%"
      }
     },
     "3e2a7f5bbe574e90a804a56db2437a76": {
      "model_module": "@jupyter-widgets/controls",
      "model_module_version": "1.5.0",
      "model_name": "DescriptionStyleModel",
      "state": {
       "description_width": ""
      }
     },
     "4068218fbd524148be9729e61ea728e6": {
      "model_module": "@jupyter-widgets/base",
      "model_module_version": "1.2.0",
      "model_name": "LayoutModel",
      "state": {}
     },
     "48e7e3b1d88d4d368e73f0d0b2ff160e": {
      "model_module": "@jupyter-widgets/base",
      "model_module_version": "1.2.0",
      "model_name": "LayoutModel",
      "state": {}
     },
     "4a08bf58d4fc44cd9af98b3d7bb5b9e6": {
      "model_module": "@jupyter-widgets/controls",
      "model_module_version": "1.5.0",
      "model_name": "DescriptionStyleModel",
      "state": {
       "description_width": ""
      }
     },
     "4a541658cec042d99ee17601c2d3de78": {
      "model_module": "@jupyter-widgets/base",
      "model_module_version": "1.2.0",
      "model_name": "LayoutModel",
      "state": {}
     },
     "4bae2dadf81840518e115780189bd556": {
      "model_module": "@jupyter-widgets/base",
      "model_module_version": "1.2.0",
      "model_name": "LayoutModel",
      "state": {}
     },
     "4bf1b966825e4d5480a9ac9f6e8391eb": {
      "model_module": "@jupyter-widgets/base",
      "model_module_version": "1.2.0",
      "model_name": "LayoutModel",
      "state": {}
     },
     "4c32cf3f0d8642e8a2a620b5cabf89d9": {
      "model_module": "@jupyter-widgets/controls",
      "model_module_version": "1.5.0",
      "model_name": "FloatProgressModel",
      "state": {
       "layout": "IPY_MODEL_f6886ef13f1a404da4eb982d05a2afa3",
       "max": 1000,
       "style": "IPY_MODEL_a18788eefd04473ea88136b2ae371a52",
       "value": 1000
      }
     },
     "4d01d4f898324ab1adcbfba2f2eb8725": {
      "model_module": "@jupyter-widgets/controls",
      "model_module_version": "1.5.0",
      "model_name": "HTMLModel",
      "state": {
       "layout": "IPY_MODEL_ba3f4605776d475a80fa0a2f01bf9827",
       "style": "IPY_MODEL_ca8af862809348c0a1a81441f9865e4d",
       "value": "100%"
      }
     },
     "4e3903d348eb4602bdc47386569fb732": {
      "model_module": "@jupyter-widgets/controls",
      "model_module_version": "1.5.0",
      "model_name": "FloatProgressModel",
      "state": {
       "layout": "IPY_MODEL_f0906a3b6c774125a3efb45215c4f723",
       "max": 1000,
       "style": "IPY_MODEL_ea1e799bb68046718ec8e507b5e4e778",
       "value": 1000
      }
     },
     "4e3c818586904cc3a5e86b5559f75075": {
      "model_module": "@jupyter-widgets/controls",
      "model_module_version": "1.5.0",
      "model_name": "HTMLModel",
      "state": {
       "layout": "IPY_MODEL_d7954f0852a74bac95d369e67cedcb7c",
       "style": "IPY_MODEL_1502d49f304b461ea359c35cd493a91c",
       "value": " 1000/1000 [54:50&lt;00:00,  3.61s/it]"
      }
     },
     "4e3d9f2fe6924de9b45a02bdeb341c86": {
      "model_module": "@jupyter-widgets/controls",
      "model_module_version": "1.5.0",
      "model_name": "HTMLModel",
      "state": {
       "layout": "IPY_MODEL_bcca41f8ac83472f8afe74eaaa30620e",
       "style": "IPY_MODEL_eb375faaf32c48b1939aaeb461aa2e3b",
       "value": " 1000/1000 [54:47&lt;00:00,  3.69s/it]"
      }
     },
     "529ea031c3a5454c94bd548db9ddc31f": {
      "model_module": "@jupyter-widgets/controls",
      "model_module_version": "1.5.0",
      "model_name": "HTMLModel",
      "state": {
       "layout": "IPY_MODEL_dccb026dc59249bb829837c7efe7d046",
       "style": "IPY_MODEL_958ac0f18b1d47459694144d85383f06",
       "value": "100%"
      }
     },
     "53e187348eb742ab9712fff115bb5ac7": {
      "model_module": "@jupyter-widgets/controls",
      "model_module_version": "1.5.0",
      "model_name": "ProgressStyleModel",
      "state": {
       "description_width": ""
      }
     },
     "591090e782b84c57a2cf640467c7019c": {
      "model_module": "@jupyter-widgets/base",
      "model_module_version": "1.2.0",
      "model_name": "LayoutModel",
      "state": {}
     },
     "5a27af93606c45a1a65bf6ef4835252b": {
      "model_module": "@jupyter-widgets/base",
      "model_module_version": "1.2.0",
      "model_name": "LayoutModel",
      "state": {}
     },
     "5f4dedee37b0463fa89668520e76c0b2": {
      "model_module": "@jupyter-widgets/controls",
      "model_module_version": "1.5.0",
      "model_name": "FloatProgressModel",
      "state": {
       "layout": "IPY_MODEL_7e2038447a654878ace1e74a53f7f38e",
       "max": 1000,
       "style": "IPY_MODEL_fa561c661d2d4a2289e808daa478e407",
       "value": 1000
      }
     },
     "604a128e828347fbba22e638a1894ee8": {
      "model_module": "@jupyter-widgets/controls",
      "model_module_version": "1.5.0",
      "model_name": "DescriptionStyleModel",
      "state": {
       "description_width": ""
      }
     },
     "6393443e39ce44e8a6faf26024d22f55": {
      "model_module": "@jupyter-widgets/base",
      "model_module_version": "1.2.0",
      "model_name": "LayoutModel",
      "state": {}
     },
     "6d9abbb5559b47d39bf016af35c8c3fb": {
      "model_module": "@jupyter-widgets/controls",
      "model_module_version": "1.5.0",
      "model_name": "DescriptionStyleModel",
      "state": {
       "description_width": ""
      }
     },
     "71309a27ce16428fa00df06d08fc3932": {
      "model_module": "@jupyter-widgets/controls",
      "model_module_version": "1.5.0",
      "model_name": "HTMLModel",
      "state": {
       "layout": "IPY_MODEL_0de7519118eb4a7c9f34e49c019c493f",
       "style": "IPY_MODEL_6d9abbb5559b47d39bf016af35c8c3fb",
       "value": " 1000/1000 [54:54&lt;00:00,  3.80s/it]"
      }
     },
     "7397f5f27fdb4907a4ec3189ab4a6b8d": {
      "model_module": "@jupyter-widgets/base",
      "model_module_version": "1.2.0",
      "model_name": "LayoutModel",
      "state": {}
     },
     "73d0e828708c45eeae26aa546a112c1e": {
      "model_module": "@jupyter-widgets/base",
      "model_module_version": "1.2.0",
      "model_name": "LayoutModel",
      "state": {}
     },
     "7439e030c62c491099d93b9265e76809": {
      "model_module": "@jupyter-widgets/controls",
      "model_module_version": "1.5.0",
      "model_name": "HTMLModel",
      "state": {
       "layout": "IPY_MODEL_a87f68219dd641309ff06ab50a208153",
       "style": "IPY_MODEL_a629fee6c9c54c30ba23895f1c092e79",
       "value": "100%"
      }
     },
     "7573d77b05b1484db27f2b2135702c97": {
      "model_module": "@jupyter-widgets/controls",
      "model_module_version": "1.5.0",
      "model_name": "ProgressStyleModel",
      "state": {
       "description_width": ""
      }
     },
     "7ab95db3556c4039b8245f04ef643fbf": {
      "model_module": "@jupyter-widgets/controls",
      "model_module_version": "1.5.0",
      "model_name": "HTMLModel",
      "state": {
       "layout": "IPY_MODEL_e764495d87e54dc6aeb6bcd9883f3df5",
       "style": "IPY_MODEL_d93b7a567f37499c93ed59f9a96e4eb6",
       "value": " 1000/1000 [54:42&lt;00:00,  3.54s/it]"
      }
     },
     "7d2a35529244480b85637bc6a96269cb": {
      "model_module": "@jupyter-widgets/controls",
      "model_module_version": "1.5.0",
      "model_name": "HTMLModel",
      "state": {
       "layout": "IPY_MODEL_ad6bf359c9634c50a5894ff479d74355",
       "style": "IPY_MODEL_3c3b14b9462747eb8e388671872efa49",
       "value": " 1000/1000 [55:04&lt;00:00,  2.03s/it]"
      }
     },
     "7de3e666b4fc4c14b9eda1004e189f02": {
      "model_module": "@jupyter-widgets/controls",
      "model_module_version": "1.5.0",
      "model_name": "DescriptionStyleModel",
      "state": {
       "description_width": ""
      }
     },
     "7e2038447a654878ace1e74a53f7f38e": {
      "model_module": "@jupyter-widgets/base",
      "model_module_version": "1.2.0",
      "model_name": "LayoutModel",
      "state": {}
     },
     "7fa32895942e4b148e2e276cc89f1f56": {
      "model_module": "@jupyter-widgets/controls",
      "model_module_version": "1.5.0",
      "model_name": "HTMLModel",
      "state": {
       "layout": "IPY_MODEL_4bae2dadf81840518e115780189bd556",
       "style": "IPY_MODEL_2a96c3008e14401184f740550b31b8b9",
       "value": " 1000/1000 [54:41&lt;00:00,  3.90s/it]"
      }
     },
     "81b2b40887d64f4c8b78d5deece9894c": {
      "model_module": "@jupyter-widgets/controls",
      "model_module_version": "1.5.0",
      "model_name": "ProgressStyleModel",
      "state": {
       "description_width": ""
      }
     },
     "88b1e550ba564396a5de4a51c5ab9054": {
      "model_module": "@jupyter-widgets/controls",
      "model_module_version": "1.5.0",
      "model_name": "FloatProgressModel",
      "state": {
       "layout": "IPY_MODEL_eb263092ed4d436085d0a901bbd71aad",
       "max": 1000,
       "style": "IPY_MODEL_f788570c556546a2b60f1696da5f7572",
       "value": 1000
      }
     },
     "894d2a76d34d447ea5862431a16655f9": {
      "model_module": "@jupyter-widgets/base",
      "model_module_version": "1.2.0",
      "model_name": "LayoutModel",
      "state": {}
     },
     "8ba2db6048e5412d83c0210a91b23812": {
      "model_module": "@jupyter-widgets/controls",
      "model_module_version": "1.5.0",
      "model_name": "HTMLModel",
      "state": {
       "layout": "IPY_MODEL_1e1bc79a30fc4cd5992b9fb4366d8b9e",
       "style": "IPY_MODEL_25962e2d4968463098e48c8111abfbca",
       "value": " 1000/1000 [54:43&lt;00:00,  3.92s/it]"
      }
     },
     "8c41de11f0754081ba0581c6d95004e6": {
      "model_module": "@jupyter-widgets/base",
      "model_module_version": "1.2.0",
      "model_name": "LayoutModel",
      "state": {}
     },
     "958ac0f18b1d47459694144d85383f06": {
      "model_module": "@jupyter-widgets/controls",
      "model_module_version": "1.5.0",
      "model_name": "DescriptionStyleModel",
      "state": {
       "description_width": ""
      }
     },
     "964f9a6bde014e7bb695b7ca1ef09a91": {
      "model_module": "@jupyter-widgets/base",
      "model_module_version": "1.2.0",
      "model_name": "LayoutModel",
      "state": {}
     },
     "a18788eefd04473ea88136b2ae371a52": {
      "model_module": "@jupyter-widgets/controls",
      "model_module_version": "1.5.0",
      "model_name": "ProgressStyleModel",
      "state": {
       "description_width": ""
      }
     },
     "a19d87bb781e49d2a847524998d3ea27": {
      "model_module": "@jupyter-widgets/controls",
      "model_module_version": "1.5.0",
      "model_name": "FloatProgressModel",
      "state": {
       "layout": "IPY_MODEL_964f9a6bde014e7bb695b7ca1ef09a91",
       "max": 1000,
       "style": "IPY_MODEL_33682189025e404fb8eac15c743eddf8",
       "value": 1000
      }
     },
     "a27e2ae2a5ac4151a7f27e31b1984f6e": {
      "model_module": "@jupyter-widgets/controls",
      "model_module_version": "1.5.0",
      "model_name": "HTMLModel",
      "state": {
       "layout": "IPY_MODEL_22d42a26c3874a17b8f541d35837faff",
       "style": "IPY_MODEL_be34a5663dd1419ea22ee76979a066f4",
       "value": "100%"
      }
     },
     "a629fee6c9c54c30ba23895f1c092e79": {
      "model_module": "@jupyter-widgets/controls",
      "model_module_version": "1.5.0",
      "model_name": "DescriptionStyleModel",
      "state": {
       "description_width": ""
      }
     },
     "a87f68219dd641309ff06ab50a208153": {
      "model_module": "@jupyter-widgets/base",
      "model_module_version": "1.2.0",
      "model_name": "LayoutModel",
      "state": {}
     },
     "ac633ee05f34415eb8c333411d256f5c": {
      "model_module": "@jupyter-widgets/base",
      "model_module_version": "1.2.0",
      "model_name": "LayoutModel",
      "state": {}
     },
     "ad6bf359c9634c50a5894ff479d74355": {
      "model_module": "@jupyter-widgets/base",
      "model_module_version": "1.2.0",
      "model_name": "LayoutModel",
      "state": {}
     },
     "b1f5d4666dad408f99f0539f8f637d5e": {
      "model_module": "@jupyter-widgets/controls",
      "model_module_version": "1.5.0",
      "model_name": "DescriptionStyleModel",
      "state": {
       "description_width": ""
      }
     },
     "b8236842a8b14b0c8506148e6035fd89": {
      "model_module": "@jupyter-widgets/controls",
      "model_module_version": "1.5.0",
      "model_name": "HTMLModel",
      "state": {
       "layout": "IPY_MODEL_14f2c41dd65448679d7948fad9dfb863",
       "style": "IPY_MODEL_e955dddfb529430ca7334b404993c8b8",
       "value": " 1000/1000 [54:50&lt;00:00,  3.66s/it]"
      }
     },
     "ba3f4605776d475a80fa0a2f01bf9827": {
      "model_module": "@jupyter-widgets/base",
      "model_module_version": "1.2.0",
      "model_name": "LayoutModel",
      "state": {}
     },
     "bcca41f8ac83472f8afe74eaaa30620e": {
      "model_module": "@jupyter-widgets/base",
      "model_module_version": "1.2.0",
      "model_name": "LayoutModel",
      "state": {}
     },
     "be34a5663dd1419ea22ee76979a066f4": {
      "model_module": "@jupyter-widgets/controls",
      "model_module_version": "1.5.0",
      "model_name": "DescriptionStyleModel",
      "state": {
       "description_width": ""
      }
     },
     "ca8af862809348c0a1a81441f9865e4d": {
      "model_module": "@jupyter-widgets/controls",
      "model_module_version": "1.5.0",
      "model_name": "DescriptionStyleModel",
      "state": {
       "description_width": ""
      }
     },
     "d05b6fc25c034c28ba8b49ed19aa3abb": {
      "model_module": "@jupyter-widgets/base",
      "model_module_version": "1.2.0",
      "model_name": "LayoutModel",
      "state": {}
     },
     "d44dc779fa504abf829ae5309a3072d3": {
      "model_module": "@jupyter-widgets/controls",
      "model_module_version": "1.5.0",
      "model_name": "HTMLModel",
      "state": {
       "layout": "IPY_MODEL_d75335cd04e04307a6427d2388eb7d3d",
       "style": "IPY_MODEL_7de3e666b4fc4c14b9eda1004e189f02",
       "value": "100%"
      }
     },
     "d5dc017d7b9640a59a514a7cd4278a91": {
      "model_module": "@jupyter-widgets/controls",
      "model_module_version": "1.5.0",
      "model_name": "FloatProgressModel",
      "state": {
       "layout": "IPY_MODEL_2d089e10311949f4beac6eb4093d08f9",
       "max": 1000,
       "style": "IPY_MODEL_81b2b40887d64f4c8b78d5deece9894c",
       "value": 1000
      }
     },
     "d75335cd04e04307a6427d2388eb7d3d": {
      "model_module": "@jupyter-widgets/base",
      "model_module_version": "1.2.0",
      "model_name": "LayoutModel",
      "state": {}
     },
     "d7954f0852a74bac95d369e67cedcb7c": {
      "model_module": "@jupyter-widgets/base",
      "model_module_version": "1.2.0",
      "model_name": "LayoutModel",
      "state": {}
     },
     "d93b7a567f37499c93ed59f9a96e4eb6": {
      "model_module": "@jupyter-widgets/controls",
      "model_module_version": "1.5.0",
      "model_name": "DescriptionStyleModel",
      "state": {
       "description_width": ""
      }
     },
     "dba193fa2ce74bcc82b4219b42075bdd": {
      "model_module": "@jupyter-widgets/controls",
      "model_module_version": "1.5.0",
      "model_name": "DescriptionStyleModel",
      "state": {
       "description_width": ""
      }
     },
     "dccb026dc59249bb829837c7efe7d046": {
      "model_module": "@jupyter-widgets/base",
      "model_module_version": "1.2.0",
      "model_name": "LayoutModel",
      "state": {}
     },
     "dd14af5e12a5487dbbf40504eaca2a94": {
      "model_module": "@jupyter-widgets/base",
      "model_module_version": "1.2.0",
      "model_name": "LayoutModel",
      "state": {}
     },
     "e764495d87e54dc6aeb6bcd9883f3df5": {
      "model_module": "@jupyter-widgets/base",
      "model_module_version": "1.2.0",
      "model_name": "LayoutModel",
      "state": {}
     },
     "e9478f3220044c618fb40362c69995ad": {
      "model_module": "@jupyter-widgets/controls",
      "model_module_version": "1.5.0",
      "model_name": "ProgressStyleModel",
      "state": {
       "description_width": ""
      }
     },
     "e955dddfb529430ca7334b404993c8b8": {
      "model_module": "@jupyter-widgets/controls",
      "model_module_version": "1.5.0",
      "model_name": "DescriptionStyleModel",
      "state": {
       "description_width": ""
      }
     },
     "ea1e799bb68046718ec8e507b5e4e778": {
      "model_module": "@jupyter-widgets/controls",
      "model_module_version": "1.5.0",
      "model_name": "ProgressStyleModel",
      "state": {
       "description_width": ""
      }
     },
     "eb263092ed4d436085d0a901bbd71aad": {
      "model_module": "@jupyter-widgets/base",
      "model_module_version": "1.2.0",
      "model_name": "LayoutModel",
      "state": {}
     },
     "eb375faaf32c48b1939aaeb461aa2e3b": {
      "model_module": "@jupyter-widgets/controls",
      "model_module_version": "1.5.0",
      "model_name": "DescriptionStyleModel",
      "state": {
       "description_width": ""
      }
     },
     "f0534caf7e5744beb165d2d62cf63d42": {
      "model_module": "@jupyter-widgets/controls",
      "model_module_version": "1.5.0",
      "model_name": "FloatProgressModel",
      "state": {
       "layout": "IPY_MODEL_73d0e828708c45eeae26aa546a112c1e",
       "max": 1000,
       "style": "IPY_MODEL_e9478f3220044c618fb40362c69995ad",
       "value": 1000
      }
     },
     "f0906a3b6c774125a3efb45215c4f723": {
      "model_module": "@jupyter-widgets/base",
      "model_module_version": "1.2.0",
      "model_name": "LayoutModel",
      "state": {}
     },
     "f18da6efeda640bb97853dcb7cba93f0": {
      "model_module": "@jupyter-widgets/controls",
      "model_module_version": "1.5.0",
      "model_name": "HTMLModel",
      "state": {
       "layout": "IPY_MODEL_894d2a76d34d447ea5862431a16655f9",
       "style": "IPY_MODEL_dba193fa2ce74bcc82b4219b42075bdd",
       "value": "100%"
      }
     },
     "f18e93e225db41d08e0f4d570e2351df": {
      "model_module": "@jupyter-widgets/base",
      "model_module_version": "1.2.0",
      "model_name": "LayoutModel",
      "state": {}
     },
     "f6886ef13f1a404da4eb982d05a2afa3": {
      "model_module": "@jupyter-widgets/base",
      "model_module_version": "1.2.0",
      "model_name": "LayoutModel",
      "state": {}
     },
     "f788570c556546a2b60f1696da5f7572": {
      "model_module": "@jupyter-widgets/controls",
      "model_module_version": "1.5.0",
      "model_name": "ProgressStyleModel",
      "state": {
       "description_width": ""
      }
     },
     "f8ccd37cfa6d4d109867ac5f5792fc8b": {
      "model_module": "@jupyter-widgets/controls",
      "model_module_version": "1.5.0",
      "model_name": "DescriptionStyleModel",
      "state": {
       "description_width": ""
      }
     },
     "fa561c661d2d4a2289e808daa478e407": {
      "model_module": "@jupyter-widgets/controls",
      "model_module_version": "1.5.0",
      "model_name": "ProgressStyleModel",
      "state": {
       "description_width": ""
      }
     },
     "ff02e8822f344c01a9708e5d87ecf841": {
      "model_module": "@jupyter-widgets/controls",
      "model_module_version": "1.5.0",
      "model_name": "DescriptionStyleModel",
      "state": {
       "description_width": ""
      }
     }
    },
    "version_major": 2,
    "version_minor": 0
   }
  }
 },
 "nbformat": 4,
 "nbformat_minor": 4
}
